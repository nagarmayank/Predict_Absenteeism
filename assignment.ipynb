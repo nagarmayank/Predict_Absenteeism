{
 "cells": [
  {
   "cell_type": "code",
   "execution_count": 159,
   "metadata": {},
   "outputs": [],
   "source": [
    "import pandas as pd\n",
    "import numpy as np"
   ]
  },
  {
   "cell_type": "markdown",
   "metadata": {},
   "source": [
    "# Data Ingestion"
   ]
  },
  {
   "cell_type": "code",
   "execution_count": 275,
   "metadata": {},
   "outputs": [],
   "source": [
    "df = pd.read_csv('Absenteeism_at_work.csv', sep=';')\n",
    "\n",
    "# Rename columns to use with dot notation\n",
    "df.columns = df.columns.str.strip().str.replace(' ','_').str.lower()"
   ]
  },
  {
   "cell_type": "code",
   "execution_count": 293,
   "metadata": {},
   "outputs": [
    {
     "data": {
      "text/html": [
       "<div>\n",
       "<style scoped>\n",
       "    .dataframe tbody tr th:only-of-type {\n",
       "        vertical-align: middle;\n",
       "    }\n",
       "\n",
       "    .dataframe tbody tr th {\n",
       "        vertical-align: top;\n",
       "    }\n",
       "\n",
       "    .dataframe thead th {\n",
       "        text-align: right;\n",
       "    }\n",
       "</style>\n",
       "<table border=\"1\" class=\"dataframe\">\n",
       "  <thead>\n",
       "    <tr style=\"text-align: right;\">\n",
       "      <th></th>\n",
       "      <th>id</th>\n",
       "      <th>reason_for_absence</th>\n",
       "      <th>month_of_absence</th>\n",
       "      <th>day_of_the_week</th>\n",
       "      <th>seasons</th>\n",
       "      <th>transportation_expense</th>\n",
       "      <th>distance_from_residence_to_work</th>\n",
       "      <th>service_time</th>\n",
       "      <th>age</th>\n",
       "      <th>work_load_average/day</th>\n",
       "      <th>...</th>\n",
       "      <th>disciplinary_failure</th>\n",
       "      <th>education</th>\n",
       "      <th>son</th>\n",
       "      <th>social_drinker</th>\n",
       "      <th>social_smoker</th>\n",
       "      <th>pet</th>\n",
       "      <th>weight</th>\n",
       "      <th>height</th>\n",
       "      <th>body_mass_index</th>\n",
       "      <th>absenteeism_time_in_hours</th>\n",
       "    </tr>\n",
       "  </thead>\n",
       "  <tbody>\n",
       "    <tr>\n",
       "      <th>count</th>\n",
       "      <td>612.000000</td>\n",
       "      <td>577.0</td>\n",
       "      <td>609.0</td>\n",
       "      <td>612.0</td>\n",
       "      <td>612.0</td>\n",
       "      <td>612.000000</td>\n",
       "      <td>612.000000</td>\n",
       "      <td>612.000000</td>\n",
       "      <td>612.000000</td>\n",
       "      <td>612.000000</td>\n",
       "      <td>...</td>\n",
       "      <td>612</td>\n",
       "      <td>612.0</td>\n",
       "      <td>612.0</td>\n",
       "      <td>612</td>\n",
       "      <td>612</td>\n",
       "      <td>612.0</td>\n",
       "      <td>612.000000</td>\n",
       "      <td>612.000000</td>\n",
       "      <td>612.000000</td>\n",
       "      <td>612.000000</td>\n",
       "    </tr>\n",
       "    <tr>\n",
       "      <th>unique</th>\n",
       "      <td>NaN</td>\n",
       "      <td>26.0</td>\n",
       "      <td>12.0</td>\n",
       "      <td>5.0</td>\n",
       "      <td>4.0</td>\n",
       "      <td>NaN</td>\n",
       "      <td>NaN</td>\n",
       "      <td>NaN</td>\n",
       "      <td>NaN</td>\n",
       "      <td>NaN</td>\n",
       "      <td>...</td>\n",
       "      <td>2</td>\n",
       "      <td>4.0</td>\n",
       "      <td>5.0</td>\n",
       "      <td>2</td>\n",
       "      <td>2</td>\n",
       "      <td>6.0</td>\n",
       "      <td>NaN</td>\n",
       "      <td>NaN</td>\n",
       "      <td>NaN</td>\n",
       "      <td>NaN</td>\n",
       "    </tr>\n",
       "    <tr>\n",
       "      <th>top</th>\n",
       "      <td>NaN</td>\n",
       "      <td>23.0</td>\n",
       "      <td>3.0</td>\n",
       "      <td>3.0</td>\n",
       "      <td>4.0</td>\n",
       "      <td>NaN</td>\n",
       "      <td>NaN</td>\n",
       "      <td>NaN</td>\n",
       "      <td>NaN</td>\n",
       "      <td>NaN</td>\n",
       "      <td>...</td>\n",
       "      <td>False</td>\n",
       "      <td>1.0</td>\n",
       "      <td>0.0</td>\n",
       "      <td>True</td>\n",
       "      <td>False</td>\n",
       "      <td>0.0</td>\n",
       "      <td>NaN</td>\n",
       "      <td>NaN</td>\n",
       "      <td>NaN</td>\n",
       "      <td>NaN</td>\n",
       "    </tr>\n",
       "    <tr>\n",
       "      <th>freq</th>\n",
       "      <td>NaN</td>\n",
       "      <td>136.0</td>\n",
       "      <td>77.0</td>\n",
       "      <td>132.0</td>\n",
       "      <td>170.0</td>\n",
       "      <td>NaN</td>\n",
       "      <td>NaN</td>\n",
       "      <td>NaN</td>\n",
       "      <td>NaN</td>\n",
       "      <td>NaN</td>\n",
       "      <td>...</td>\n",
       "      <td>580</td>\n",
       "      <td>494.0</td>\n",
       "      <td>230.0</td>\n",
       "      <td>330</td>\n",
       "      <td>563</td>\n",
       "      <td>368.0</td>\n",
       "      <td>NaN</td>\n",
       "      <td>NaN</td>\n",
       "      <td>NaN</td>\n",
       "      <td>NaN</td>\n",
       "    </tr>\n",
       "    <tr>\n",
       "      <th>mean</th>\n",
       "      <td>18.299020</td>\n",
       "      <td>NaN</td>\n",
       "      <td>NaN</td>\n",
       "      <td>NaN</td>\n",
       "      <td>NaN</td>\n",
       "      <td>221.375817</td>\n",
       "      <td>29.230392</td>\n",
       "      <td>12.227124</td>\n",
       "      <td>36.140523</td>\n",
       "      <td>265.433912</td>\n",
       "      <td>...</td>\n",
       "      <td>NaN</td>\n",
       "      <td>NaN</td>\n",
       "      <td>NaN</td>\n",
       "      <td>NaN</td>\n",
       "      <td>NaN</td>\n",
       "      <td>NaN</td>\n",
       "      <td>78.374183</td>\n",
       "      <td>171.843137</td>\n",
       "      <td>26.535948</td>\n",
       "      <td>4.379085</td>\n",
       "    </tr>\n",
       "    <tr>\n",
       "      <th>std</th>\n",
       "      <td>10.982077</td>\n",
       "      <td>NaN</td>\n",
       "      <td>NaN</td>\n",
       "      <td>NaN</td>\n",
       "      <td>NaN</td>\n",
       "      <td>65.674638</td>\n",
       "      <td>14.595277</td>\n",
       "      <td>4.178785</td>\n",
       "      <td>6.434857</td>\n",
       "      <td>32.356520</td>\n",
       "      <td>...</td>\n",
       "      <td>NaN</td>\n",
       "      <td>NaN</td>\n",
       "      <td>NaN</td>\n",
       "      <td>NaN</td>\n",
       "      <td>NaN</td>\n",
       "      <td>NaN</td>\n",
       "      <td>12.569760</td>\n",
       "      <td>5.653228</td>\n",
       "      <td>4.210930</td>\n",
       "      <td>3.456546</td>\n",
       "    </tr>\n",
       "    <tr>\n",
       "      <th>min</th>\n",
       "      <td>1.000000</td>\n",
       "      <td>NaN</td>\n",
       "      <td>NaN</td>\n",
       "      <td>NaN</td>\n",
       "      <td>NaN</td>\n",
       "      <td>118.000000</td>\n",
       "      <td>5.000000</td>\n",
       "      <td>1.000000</td>\n",
       "      <td>27.000000</td>\n",
       "      <td>205.917000</td>\n",
       "      <td>...</td>\n",
       "      <td>NaN</td>\n",
       "      <td>NaN</td>\n",
       "      <td>NaN</td>\n",
       "      <td>NaN</td>\n",
       "      <td>NaN</td>\n",
       "      <td>NaN</td>\n",
       "      <td>56.000000</td>\n",
       "      <td>163.000000</td>\n",
       "      <td>19.000000</td>\n",
       "      <td>0.000000</td>\n",
       "    </tr>\n",
       "    <tr>\n",
       "      <th>25%</th>\n",
       "      <td>10.000000</td>\n",
       "      <td>NaN</td>\n",
       "      <td>NaN</td>\n",
       "      <td>NaN</td>\n",
       "      <td>NaN</td>\n",
       "      <td>179.000000</td>\n",
       "      <td>16.000000</td>\n",
       "      <td>9.000000</td>\n",
       "      <td>30.000000</td>\n",
       "      <td>241.476000</td>\n",
       "      <td>...</td>\n",
       "      <td>NaN</td>\n",
       "      <td>NaN</td>\n",
       "      <td>NaN</td>\n",
       "      <td>NaN</td>\n",
       "      <td>NaN</td>\n",
       "      <td>NaN</td>\n",
       "      <td>69.000000</td>\n",
       "      <td>169.000000</td>\n",
       "      <td>24.000000</td>\n",
       "      <td>2.000000</td>\n",
       "    </tr>\n",
       "    <tr>\n",
       "      <th>50%</th>\n",
       "      <td>20.000000</td>\n",
       "      <td>NaN</td>\n",
       "      <td>NaN</td>\n",
       "      <td>NaN</td>\n",
       "      <td>NaN</td>\n",
       "      <td>225.000000</td>\n",
       "      <td>26.000000</td>\n",
       "      <td>12.000000</td>\n",
       "      <td>37.000000</td>\n",
       "      <td>264.249000</td>\n",
       "      <td>...</td>\n",
       "      <td>NaN</td>\n",
       "      <td>NaN</td>\n",
       "      <td>NaN</td>\n",
       "      <td>NaN</td>\n",
       "      <td>NaN</td>\n",
       "      <td>NaN</td>\n",
       "      <td>80.000000</td>\n",
       "      <td>170.000000</td>\n",
       "      <td>25.000000</td>\n",
       "      <td>3.000000</td>\n",
       "    </tr>\n",
       "    <tr>\n",
       "      <th>75%</th>\n",
       "      <td>28.000000</td>\n",
       "      <td>NaN</td>\n",
       "      <td>NaN</td>\n",
       "      <td>NaN</td>\n",
       "      <td>NaN</td>\n",
       "      <td>260.000000</td>\n",
       "      <td>49.000000</td>\n",
       "      <td>16.000000</td>\n",
       "      <td>40.000000</td>\n",
       "      <td>284.031000</td>\n",
       "      <td>...</td>\n",
       "      <td>NaN</td>\n",
       "      <td>NaN</td>\n",
       "      <td>NaN</td>\n",
       "      <td>NaN</td>\n",
       "      <td>NaN</td>\n",
       "      <td>NaN</td>\n",
       "      <td>89.000000</td>\n",
       "      <td>172.000000</td>\n",
       "      <td>31.000000</td>\n",
       "      <td>8.000000</td>\n",
       "    </tr>\n",
       "    <tr>\n",
       "      <th>max</th>\n",
       "      <td>36.000000</td>\n",
       "      <td>NaN</td>\n",
       "      <td>NaN</td>\n",
       "      <td>NaN</td>\n",
       "      <td>NaN</td>\n",
       "      <td>378.000000</td>\n",
       "      <td>52.000000</td>\n",
       "      <td>24.000000</td>\n",
       "      <td>58.000000</td>\n",
       "      <td>343.253000</td>\n",
       "      <td>...</td>\n",
       "      <td>NaN</td>\n",
       "      <td>NaN</td>\n",
       "      <td>NaN</td>\n",
       "      <td>NaN</td>\n",
       "      <td>NaN</td>\n",
       "      <td>NaN</td>\n",
       "      <td>106.000000</td>\n",
       "      <td>196.000000</td>\n",
       "      <td>38.000000</td>\n",
       "      <td>16.000000</td>\n",
       "    </tr>\n",
       "  </tbody>\n",
       "</table>\n",
       "<p>11 rows × 21 columns</p>\n",
       "</div>"
      ],
      "text/plain": [
       "                id  reason_for_absence  month_of_absence  day_of_the_week  \\\n",
       "count   612.000000               577.0             609.0            612.0   \n",
       "unique         NaN                26.0              12.0              5.0   \n",
       "top            NaN                23.0               3.0              3.0   \n",
       "freq           NaN               136.0              77.0            132.0   \n",
       "mean     18.299020                 NaN               NaN              NaN   \n",
       "std      10.982077                 NaN               NaN              NaN   \n",
       "min       1.000000                 NaN               NaN              NaN   \n",
       "25%      10.000000                 NaN               NaN              NaN   \n",
       "50%      20.000000                 NaN               NaN              NaN   \n",
       "75%      28.000000                 NaN               NaN              NaN   \n",
       "max      36.000000                 NaN               NaN              NaN   \n",
       "\n",
       "        seasons  transportation_expense  distance_from_residence_to_work  \\\n",
       "count     612.0              612.000000                       612.000000   \n",
       "unique      4.0                     NaN                              NaN   \n",
       "top         4.0                     NaN                              NaN   \n",
       "freq      170.0                     NaN                              NaN   \n",
       "mean        NaN              221.375817                        29.230392   \n",
       "std         NaN               65.674638                        14.595277   \n",
       "min         NaN              118.000000                         5.000000   \n",
       "25%         NaN              179.000000                        16.000000   \n",
       "50%         NaN              225.000000                        26.000000   \n",
       "75%         NaN              260.000000                        49.000000   \n",
       "max         NaN              378.000000                        52.000000   \n",
       "\n",
       "        service_time         age  work_load_average/day  ...  \\\n",
       "count     612.000000  612.000000             612.000000  ...   \n",
       "unique           NaN         NaN                    NaN  ...   \n",
       "top              NaN         NaN                    NaN  ...   \n",
       "freq             NaN         NaN                    NaN  ...   \n",
       "mean       12.227124   36.140523             265.433912  ...   \n",
       "std         4.178785    6.434857              32.356520  ...   \n",
       "min         1.000000   27.000000             205.917000  ...   \n",
       "25%         9.000000   30.000000             241.476000  ...   \n",
       "50%        12.000000   37.000000             264.249000  ...   \n",
       "75%        16.000000   40.000000             284.031000  ...   \n",
       "max        24.000000   58.000000             343.253000  ...   \n",
       "\n",
       "        disciplinary_failure education    son  social_drinker social_smoker  \\\n",
       "count                    612     612.0  612.0             612           612   \n",
       "unique                     2       4.0    5.0               2             2   \n",
       "top                    False       1.0    0.0            True         False   \n",
       "freq                     580     494.0  230.0             330           563   \n",
       "mean                     NaN       NaN    NaN             NaN           NaN   \n",
       "std                      NaN       NaN    NaN             NaN           NaN   \n",
       "min                      NaN       NaN    NaN             NaN           NaN   \n",
       "25%                      NaN       NaN    NaN             NaN           NaN   \n",
       "50%                      NaN       NaN    NaN             NaN           NaN   \n",
       "75%                      NaN       NaN    NaN             NaN           NaN   \n",
       "max                      NaN       NaN    NaN             NaN           NaN   \n",
       "\n",
       "          pet      weight      height  body_mass_index  \\\n",
       "count   612.0  612.000000  612.000000       612.000000   \n",
       "unique    6.0         NaN         NaN              NaN   \n",
       "top       0.0         NaN         NaN              NaN   \n",
       "freq    368.0         NaN         NaN              NaN   \n",
       "mean      NaN   78.374183  171.843137        26.535948   \n",
       "std       NaN   12.569760    5.653228         4.210930   \n",
       "min       NaN   56.000000  163.000000        19.000000   \n",
       "25%       NaN   69.000000  169.000000        24.000000   \n",
       "50%       NaN   80.000000  170.000000        25.000000   \n",
       "75%       NaN   89.000000  172.000000        31.000000   \n",
       "max       NaN  106.000000  196.000000        38.000000   \n",
       "\n",
       "        absenteeism_time_in_hours  \n",
       "count                  612.000000  \n",
       "unique                        NaN  \n",
       "top                           NaN  \n",
       "freq                          NaN  \n",
       "mean                     4.379085  \n",
       "std                      3.456546  \n",
       "min                      0.000000  \n",
       "25%                      2.000000  \n",
       "50%                      3.000000  \n",
       "75%                      8.000000  \n",
       "max                     16.000000  \n",
       "\n",
       "[11 rows x 21 columns]"
      ]
     },
     "execution_count": 293,
     "metadata": {},
     "output_type": "execute_result"
    }
   ],
   "source": [
    "df.describe(include='all')"
   ]
  },
  {
   "cell_type": "code",
   "execution_count": 291,
   "metadata": {},
   "outputs": [
    {
     "name": "stderr",
     "output_type": "stream",
     "text": [
      "/Users/Mayank/anaconda3/lib/python3.7/site-packages/pandas/core/indexing.py:190: SettingWithCopyWarning: \n",
      "A value is trying to be set on a copy of a slice from a DataFrame\n",
      "\n",
      "See the caveats in the documentation: http://pandas.pydata.org/pandas-docs/stable/indexing.html#indexing-view-versus-copy\n",
      "  self._setitem_with_indexer(indexer, value)\n"
     ]
    }
   ],
   "source": [
    "# After analysis, columns reason_for_absence and month_of_absence shows min. values as 0 which is to be treated as NaN\n",
    "# So, we import the dataset again treating the same\n",
    "\n",
    "df.reason_for_absence.loc[df.reason_for_absence == 0] = np.NaN\n",
    "df.month_of_absence.loc[df.month_of_absence == 0] = np.NaN"
   ]
  },
  {
   "cell_type": "markdown",
   "metadata": {},
   "source": [
    "# Data Preprocessing"
   ]
  },
  {
   "cell_type": "code",
   "execution_count": 292,
   "metadata": {},
   "outputs": [
    {
     "name": "stdout",
     "output_type": "stream",
     "text": [
      "<class 'pandas.core.frame.DataFrame'>\n",
      "RangeIndex: 612 entries, 0 to 611\n",
      "Data columns (total 21 columns):\n",
      "id                                 612 non-null int64\n",
      "reason_for_absence                 577 non-null category\n",
      "month_of_absence                   609 non-null category\n",
      "day_of_the_week                    612 non-null category\n",
      "seasons                            612 non-null category\n",
      "transportation_expense             612 non-null int64\n",
      "distance_from_residence_to_work    612 non-null int64\n",
      "service_time                       612 non-null int64\n",
      "age                                612 non-null int64\n",
      "work_load_average/day              612 non-null float64\n",
      "hit_target                         612 non-null int64\n",
      "disciplinary_failure               612 non-null bool\n",
      "education                          612 non-null category\n",
      "son                                612 non-null category\n",
      "social_drinker                     612 non-null bool\n",
      "social_smoker                      612 non-null bool\n",
      "pet                                612 non-null category\n",
      "weight                             612 non-null int64\n",
      "height                             612 non-null int64\n",
      "body_mass_index                    612 non-null int64\n",
      "absenteeism_time_in_hours          612 non-null int64\n",
      "dtypes: bool(3), category(7), float64(1), int64(10)\n",
      "memory usage: 61.5 KB\n"
     ]
    }
   ],
   "source": [
    "cat_columns = ['reason_for_absence','month_of_absence','day_of_the_week','seasons','education','son','pet']\n",
    "for column in cat_columns:\n",
    "    df[column] = df[column].astype('category')\n",
    "\n",
    "bool_columns = ['disciplinary_failure','social_drinker','social_smoker']\n",
    "for column in bool_columns:\n",
    "    df[column] = df[column].astype('bool')\n",
    "\n",
    "# Check datatype for each column in Dataframe\n",
    "df.info()"
   ]
  },
  {
   "cell_type": "code",
   "execution_count": 294,
   "metadata": {},
   "outputs": [
    {
     "data": {
      "text/plain": [
       "id                                  0\n",
       "reason_for_absence                 35\n",
       "month_of_absence                    3\n",
       "day_of_the_week                     0\n",
       "seasons                             0\n",
       "transportation_expense              0\n",
       "distance_from_residence_to_work     0\n",
       "service_time                        0\n",
       "age                                 0\n",
       "work_load_average/day               0\n",
       "hit_target                          0\n",
       "disciplinary_failure                0\n",
       "education                           0\n",
       "son                                 0\n",
       "social_drinker                      0\n",
       "social_smoker                       0\n",
       "pet                                 0\n",
       "weight                              0\n",
       "height                              0\n",
       "body_mass_index                     0\n",
       "absenteeism_time_in_hours           0\n",
       "dtype: int64"
      ]
     },
     "execution_count": 294,
     "metadata": {},
     "output_type": "execute_result"
    }
   ],
   "source": [
    "# The reason_for_absence and month_of_absence columns shows 43 and 3 NaN values\n",
    "df.isna().sum()"
   ]
  },
  {
   "cell_type": "code",
   "execution_count": 276,
   "metadata": {},
   "outputs": [
    {
     "data": {
      "text/plain": [
       "(740, 21)"
      ]
     },
     "execution_count": 276,
     "metadata": {},
     "output_type": "execute_result"
    }
   ],
   "source": [
    "# Check the shape of dataframe\n",
    "df.shape"
   ]
  },
  {
   "cell_type": "code",
   "execution_count": 277,
   "metadata": {},
   "outputs": [
    {
     "data": {
      "text/plain": [
       "(706, 21)"
      ]
     },
     "execution_count": 277,
     "metadata": {},
     "output_type": "execute_result"
    }
   ],
   "source": [
    "# Drop duplicates from dataset\n",
    "df = df.drop_duplicates()\n",
    "\n",
    "#After dropping duplicates, check the shape again\n",
    "df.shape"
   ]
  },
  {
   "cell_type": "code",
   "execution_count": 249,
   "metadata": {},
   "outputs": [
    {
     "data": {
      "text/html": [
       "<div>\n",
       "<style scoped>\n",
       "    .dataframe tbody tr th:only-of-type {\n",
       "        vertical-align: middle;\n",
       "    }\n",
       "\n",
       "    .dataframe tbody tr th {\n",
       "        vertical-align: top;\n",
       "    }\n",
       "\n",
       "    .dataframe thead th {\n",
       "        text-align: right;\n",
       "    }\n",
       "</style>\n",
       "<table border=\"1\" class=\"dataframe\">\n",
       "  <thead>\n",
       "    <tr style=\"text-align: right;\">\n",
       "      <th></th>\n",
       "      <th>reason_for_absence</th>\n",
       "      <th>absenteeism_time_in_hours</th>\n",
       "    </tr>\n",
       "  </thead>\n",
       "  <tbody>\n",
       "  </tbody>\n",
       "</table>\n",
       "</div>"
      ],
      "text/plain": [
       "Empty DataFrame\n",
       "Columns: [reason_for_absence, absenteeism_time_in_hours]\n",
       "Index: []"
      ]
     },
     "execution_count": 249,
     "metadata": {},
     "output_type": "execute_result"
    }
   ],
   "source": [
    "# For all rows where reason_for_absence is NaN, the absenteeism_time_in_hours is 0, hence we can drop these rows\n",
    "df[df.reason_for_absence.isna()][['reason_for_absence','absenteeism_time_in_hours']].head()"
   ]
  },
  {
   "cell_type": "code",
   "execution_count": 250,
   "metadata": {},
   "outputs": [
    {
     "data": {
      "text/html": [
       "<div>\n",
       "<style scoped>\n",
       "    .dataframe tbody tr th:only-of-type {\n",
       "        vertical-align: middle;\n",
       "    }\n",
       "\n",
       "    .dataframe tbody tr th {\n",
       "        vertical-align: top;\n",
       "    }\n",
       "\n",
       "    .dataframe thead th {\n",
       "        text-align: right;\n",
       "    }\n",
       "</style>\n",
       "<table border=\"1\" class=\"dataframe\">\n",
       "  <thead>\n",
       "    <tr style=\"text-align: right;\">\n",
       "      <th></th>\n",
       "      <th>id</th>\n",
       "      <th>reason_for_absence</th>\n",
       "      <th>month_of_absence</th>\n",
       "      <th>day_of_the_week</th>\n",
       "      <th>seasons</th>\n",
       "      <th>transportation_expense</th>\n",
       "      <th>distance_from_residence_to_work</th>\n",
       "      <th>service_time</th>\n",
       "      <th>age</th>\n",
       "      <th>work_load_average/day</th>\n",
       "      <th>...</th>\n",
       "      <th>disciplinary_failure</th>\n",
       "      <th>education</th>\n",
       "      <th>son</th>\n",
       "      <th>social_drinker</th>\n",
       "      <th>social_smoker</th>\n",
       "      <th>pet</th>\n",
       "      <th>weight</th>\n",
       "      <th>height</th>\n",
       "      <th>body_mass_index</th>\n",
       "      <th>absenteeism_time_in_hours</th>\n",
       "    </tr>\n",
       "  </thead>\n",
       "  <tbody>\n",
       "    <tr>\n",
       "      <th>118</th>\n",
       "      <td>34</td>\n",
       "      <td>27.0</td>\n",
       "      <td>1.0</td>\n",
       "      <td>2</td>\n",
       "      <td>2</td>\n",
       "      <td>118</td>\n",
       "      <td>10</td>\n",
       "      <td>10</td>\n",
       "      <td>37</td>\n",
       "      <td>308.593</td>\n",
       "      <td>...</td>\n",
       "      <td>False</td>\n",
       "      <td>1</td>\n",
       "      <td>0</td>\n",
       "      <td>False</td>\n",
       "      <td>False</td>\n",
       "      <td>0</td>\n",
       "      <td>83</td>\n",
       "      <td>172</td>\n",
       "      <td>28</td>\n",
       "      <td>0</td>\n",
       "    </tr>\n",
       "  </tbody>\n",
       "</table>\n",
       "<p>1 rows × 21 columns</p>\n",
       "</div>"
      ],
      "text/plain": [
       "     id reason_for_absence month_of_absence day_of_the_week seasons  \\\n",
       "118  34               27.0              1.0               2       2   \n",
       "\n",
       "     transportation_expense  distance_from_residence_to_work  service_time  \\\n",
       "118                     118                               10            10   \n",
       "\n",
       "     age  work_load_average/day  ...  disciplinary_failure  education son  \\\n",
       "118   37                308.593  ...                 False          1   0   \n",
       "\n",
       "    social_drinker  social_smoker  pet weight  height  body_mass_index  \\\n",
       "118          False          False    0     83     172               28   \n",
       "\n",
       "     absenteeism_time_in_hours  \n",
       "118                          0  \n",
       "\n",
       "[1 rows x 21 columns]"
      ]
     },
     "execution_count": 250,
     "metadata": {},
     "output_type": "execute_result"
    }
   ],
   "source": [
    "# After dropping the rows where reason_for_absence is NaN, \n",
    "# we are still left with 1 row where abseteeism_time_in_hours is 0\n",
    "# We would impute this with mean value of column in dataframe\n",
    "\n",
    "df = df.dropna(subset=['reason_for_absence']).reset_index(drop=True)\n",
    "df[df.absenteeism_time_in_hours == 0]"
   ]
  },
  {
   "cell_type": "code",
   "execution_count": 251,
   "metadata": {},
   "outputs": [],
   "source": [
    "# Impute above row with mean value for reason_for_absence = 27\n",
    "df.loc[df.absenteeism_time_in_hours == 0,'absenteeism_time_in_hours'] = \\\n",
    "    df[df['reason_for_absence']==27].absenteeism_time_in_hours.mean()"
   ]
  },
  {
   "cell_type": "markdown",
   "metadata": {},
   "source": [
    "## Outlier Analysis"
   ]
  },
  {
   "cell_type": "code",
   "execution_count": 280,
   "metadata": {},
   "outputs": [
    {
     "data": {
      "text/plain": [
       "<matplotlib.axes._subplots.AxesSubplot at 0x1a2d711198>"
      ]
     },
     "execution_count": 280,
     "metadata": {},
     "output_type": "execute_result"
    },
    {
     "data": {
      "image/png": "[encoded data removed]",
      "text/plain": [
       "<Figure size 1440x720 with 6 Axes>"
      ]
     },
     "metadata": {
      "needs_background": "light"
     },
     "output_type": "display_data"
    }
   ],
   "source": [
    "fig, axes = plt.subplots(2, 3)\n",
    "fig.set_figheight(10)\n",
    "fig.set_figwidth(20)\n",
    "\n",
    "sns.boxplot(x='absenteeism_time_in_hours', data=df, ax=axes[0][0])\n",
    "sns.boxplot(x='work_load_average/day', data=df, ax=axes[0][1])\n",
    "sns.boxplot(x='hit_target', data=df, ax=axes[0][2])\n",
    "sns.boxplot(x='transportation_expense', data=df, ax=axes[1][0])\n",
    "sns.boxplot(x='distance_from_residence_to_work', data=df, ax=axes[1][1])\n",
    "sns.boxplot(x='service_time', data=df, ax=axes[1][2])"
   ]
  },
  {
   "cell_type": "code",
   "execution_count": 288,
   "metadata": {},
   "outputs": [],
   "source": [
    "# From the above plot, we can see that there are many outliers which can be removed from the dataset:\n",
    "# 1) absenteeism_time_in_hours => 24\n",
    "# 2) work_load_average/day > 350\n",
    "# 3) hit_target < 85\n",
    "# 4) transportation_expense > 380\n",
    "# 5) service_time > 25\n",
    "\n",
    "df = df.drop(index = df[df.absenteeism_time_in_hours >= 24].index).reset_index(drop=True)\n",
    "df = df.drop(index = df[df['work_load_average/day'] > 350].index).reset_index(drop=True)\n",
    "df = df.drop(index = df[df.hit_target < 85].index).reset_index(drop=True)\n",
    "df = df.drop(index = df[df.transportation_expense > 380].index).reset_index(drop=True)\n",
    "df = df.drop(index = df[df.service_time > 25].index).reset_index(drop=True)"
   ]
  },
  {
   "cell_type": "code",
   "execution_count": 289,
   "metadata": {},
   "outputs": [
    {
     "data": {
      "text/plain": [
       "<matplotlib.axes._subplots.AxesSubplot at 0x1a2e4bb5f8>"
      ]
     },
     "execution_count": 289,
     "metadata": {},
     "output_type": "execute_result"
    },
    {
     "data": {
      "image/png": "[encoded data removed]",
      "text/plain": [
       "<Figure size 1440x720 with 6 Axes>"
      ]
     },
     "metadata": {
      "needs_background": "light"
     },
     "output_type": "display_data"
    }
   ],
   "source": [
    "fig, axes = plt.subplots(2, 3)\n",
    "fig.set_figheight(10)\n",
    "fig.set_figwidth(20)\n",
    "\n",
    "sns.boxplot(x='absenteeism_time_in_hours', data=df, ax=axes[0][0])\n",
    "sns.boxplot(x='work_load_average/day', data=df, ax=axes[0][1])\n",
    "sns.boxplot(x='hit_target', data=df, ax=axes[0][2])\n",
    "sns.boxplot(x='transportation_expense', data=df, ax=axes[1][0])\n",
    "sns.boxplot(x='distance_from_residence_to_work', data=df, ax=axes[1][1])\n",
    "sns.boxplot(x='service_time', data=df, ax=axes[1][2])"
   ]
  },
  {
   "cell_type": "code",
   "execution_count": 295,
   "metadata": {},
   "outputs": [
    {
     "data": {
      "text/plain": [
       "seasons  month_of_absence\n",
       "1        6.0                 14\n",
       "         7.0                 60\n",
       "         8.0                 53\n",
       "         9.0                 18\n",
       "2        1.0                 42\n",
       "         2.0                 59\n",
       "         3.0                 52\n",
       "         12.0                 8\n",
       "3        3.0                 25\n",
       "         4.0                 44\n",
       "         5.0                 43\n",
       "         6.0                 21\n",
       "4        9.0                 14\n",
       "         10.0                65\n",
       "         11.0                57\n",
       "         12.0                34\n",
       "Name: id, dtype: int64"
      ]
     },
     "execution_count": 295,
     "metadata": {},
     "output_type": "execute_result"
    }
   ],
   "source": [
    "# Below, we see that there are some months which overlap in 2 seasons\n",
    "# We will merge months into seasons where the count is more\n",
    "# e.g., Month 6 is in Season 1 (count = 16) and Season 3 (count = 33). \n",
    "# Hence, it should be merged in Season 3 (new_count = 49)\n",
    "# Similarly for other months too\n",
    "df.groupby(by=['seasons','month_of_absence']).id.count()"
   ]
  },
  {
   "cell_type": "code",
   "execution_count": 296,
   "metadata": {},
   "outputs": [],
   "source": [
    "df.loc[(df.month_of_absence==6) & (df.seasons==1),'seasons'] = 3\n",
    "df.loc[(df.month_of_absence==12) & (df.seasons==2),'seasons'] = 4\n",
    "df.loc[(df.month_of_absence==9) & (df.seasons==4),'seasons'] = 1\n",
    "df.loc[(df.month_of_absence==3) & (df.seasons==3),'seasons'] = 2"
   ]
  },
  {
   "cell_type": "code",
   "execution_count": 297,
   "metadata": {},
   "outputs": [
    {
     "data": {
      "text/plain": [
       "seasons  month_of_absence\n",
       "1        7.0                 60\n",
       "         8.0                 53\n",
       "         9.0                 32\n",
       "2        1.0                 42\n",
       "         2.0                 59\n",
       "         3.0                 77\n",
       "3        4.0                 44\n",
       "         5.0                 43\n",
       "         6.0                 35\n",
       "4        10.0                65\n",
       "         11.0                57\n",
       "         12.0                42\n",
       "Name: id, dtype: int64"
      ]
     },
     "execution_count": 297,
     "metadata": {},
     "output_type": "execute_result"
    }
   ],
   "source": [
    "# After making the above changes, the seasons and months are arranged properly\n",
    "df.groupby(by=['seasons','month_of_absence']).id.count()"
   ]
  },
  {
   "cell_type": "markdown",
   "metadata": {},
   "source": [
    "# Data Exploration"
   ]
  },
  {
   "cell_type": "code",
   "execution_count": 317,
   "metadata": {},
   "outputs": [
    {
     "data": {
      "text/plain": [
       "<matplotlib.axes._subplots.AxesSubplot at 0x1a353666a0>"
      ]
     },
     "execution_count": 317,
     "metadata": {},
     "output_type": "execute_result"
    },
    {
     "data": {
      "image/png": "[encoded data removed]",
      "text/plain": [
       "<Figure size 1440x2520 with 10 Axes>"
      ]
     },
     "metadata": {
      "needs_background": "light"
     },
     "output_type": "display_data"
    }
   ],
   "source": [
    "fig, axes = plt.subplots(10, 1)\n",
    "fig.set_figheight(35)\n",
    "fig.set_figwidth(20)\n",
    "\n",
    "# For categorical columns\n",
    "sns.barplot(x='month_of_absence',y='absenteeism_time_in_hours',data=df,estimator=np.sum, ax=axes[0])\n",
    "sns.barplot(x='seasons',y='absenteeism_time_in_hours',data=df,estimator=np.sum,ax=axes[1])\n",
    "sns.barplot(x='reason_for_absence',y='absenteeism_time_in_hours',data=df,estimator=np.sum,ax=axes[2])\n",
    "sns.barplot(x='day_of_the_week',y='absenteeism_time_in_hours',data=df,estimator=np.sum, ax=axes[3])\n",
    "sns.barplot(x='education',y='absenteeism_time_in_hours',data=df,estimator=np.sum,ax=axes[4])\n",
    "sns.barplot(x='son',y='absenteeism_time_in_hours',data=df,estimator=np.sum,ax=axes[5])\n",
    "sns.barplot(x='pet',y='absenteeism_time_in_hours',data=df,estimator=np.sum,ax=axes[6])\n",
    "\n",
    "# For boolean columns\n",
    "sns.barplot(x='disciplinary_failure',y='absenteeism_time_in_hours',data=df,estimator=np.sum,ax=axes[7])\n",
    "sns.barplot(x='social_drinker',y='absenteeism_time_in_hours',data=df,estimator=np.sum,ax=axes[8])\n",
    "sns.barplot(x='social_smoker',y='absenteeism_time_in_hours',data=df,estimator=np.sum,ax=axes[9])"
   ]
  },
  {
   "cell_type": "markdown",
   "metadata": {},
   "source": [
    "### From the above bar plot, the following can be inferred\n",
    "- <i>Highest absence is in months of March, July and October\n",
    "- <i>Most absence are due to reason codes 23, 28 and 22"
   ]
  },
  {
   "cell_type": "code",
   "execution_count": 320,
   "metadata": {},
   "outputs": [
    {
     "data": {
      "text/plain": [
       "2    10\n",
       "6     8\n",
       "4     6\n",
       "3     6\n",
       "5     2\n",
       "Name: day_of_the_week, dtype: int64"
      ]
     },
     "execution_count": 320,
     "metadata": {},
     "output_type": "execute_result"
    }
   ],
   "source": [
    "df[df.reason_for_absence==26].day_of_the_week.value_counts()"
   ]
  },
  {
   "cell_type": "code",
   "execution_count": 207,
   "metadata": {},
   "outputs": [
    {
     "data": {
      "image/png": "[encoded data removed]",
      "text/plain": [
       "<Figure size 1080x720 with 2 Axes>"
      ]
     },
     "metadata": {
      "needs_background": "light"
     },
     "output_type": "display_data"
    }
   ],
   "source": [
    "%matplotlib inline\n",
    "import seaborn as sns\n",
    "import matplotlib.pyplot as plt\n",
    "\n",
    "plt.figure(figsize=(15,10))\n",
    "sns.heatmap(df.corr(),vmin=-1,cmap='coolwarm',annot=True)\n",
    "plt.show()"
   ]
  },
  {
   "cell_type": "markdown",
   "metadata": {},
   "source": [
    "### From the above heatmap, the following relationships are prominent\n",
    "\n",
    "- transportation_expense is positively correlated with distance_from_residence_to_work\n",
    "- service_time is positively correlated with age\n",
    "- transportation_expense is negatively correlated with age and service_time\n",
    "- body_mass_index is derived from height and weight, so we can drop height and weight from the prediction model"
   ]
  },
  {
   "cell_type": "markdown",
   "metadata": {},
   "source": [
    "### Feature Scaling using StandardScaler() function"
   ]
  },
  {
   "cell_type": "code",
   "execution_count": 208,
   "metadata": {},
   "outputs": [
    {
     "name": "stderr",
     "output_type": "stream",
     "text": [
      "/Users/Mayank/anaconda3/lib/python3.7/site-packages/sklearn/preprocessing/data.py:334: DataConversionWarning: Data with input dtype int64, float64 were all converted to float64 by MinMaxScaler.\n",
      "  return self.partial_fit(X, y)\n"
     ]
    },
    {
     "data": {
      "text/html": [
       "<div>\n",
       "<style scoped>\n",
       "    .dataframe tbody tr th:only-of-type {\n",
       "        vertical-align: middle;\n",
       "    }\n",
       "\n",
       "    .dataframe tbody tr th {\n",
       "        vertical-align: top;\n",
       "    }\n",
       "\n",
       "    .dataframe thead th {\n",
       "        text-align: right;\n",
       "    }\n",
       "</style>\n",
       "<table border=\"1\" class=\"dataframe\">\n",
       "  <thead>\n",
       "    <tr style=\"text-align: right;\">\n",
       "      <th></th>\n",
       "      <th>id</th>\n",
       "      <th>reason_for_absence</th>\n",
       "      <th>month_of_absence</th>\n",
       "      <th>day_of_the_week</th>\n",
       "      <th>seasons</th>\n",
       "      <th>transportation_expense</th>\n",
       "      <th>distance_from_residence_to_work</th>\n",
       "      <th>service_time</th>\n",
       "      <th>age</th>\n",
       "      <th>work_load_average/day</th>\n",
       "      <th>...</th>\n",
       "      <th>disciplinary_failure</th>\n",
       "      <th>education</th>\n",
       "      <th>son</th>\n",
       "      <th>social_drinker</th>\n",
       "      <th>social_smoker</th>\n",
       "      <th>pet</th>\n",
       "      <th>weight</th>\n",
       "      <th>height</th>\n",
       "      <th>body_mass_index</th>\n",
       "      <th>absenteeism_time_in_hours</th>\n",
       "    </tr>\n",
       "  </thead>\n",
       "  <tbody>\n",
       "    <tr>\n",
       "      <th>0</th>\n",
       "      <td>11</td>\n",
       "      <td>26</td>\n",
       "      <td>7</td>\n",
       "      <td>3</td>\n",
       "      <td>1</td>\n",
       "      <td>0.633333</td>\n",
       "      <td>0.659574</td>\n",
       "      <td>13</td>\n",
       "      <td>33</td>\n",
       "      <td>0.194471</td>\n",
       "      <td>...</td>\n",
       "      <td>False</td>\n",
       "      <td>1</td>\n",
       "      <td>2</td>\n",
       "      <td>True</td>\n",
       "      <td>False</td>\n",
       "      <td>1</td>\n",
       "      <td>90</td>\n",
       "      <td>172</td>\n",
       "      <td>0.578947</td>\n",
       "      <td>4</td>\n",
       "    </tr>\n",
       "    <tr>\n",
       "      <th>1</th>\n",
       "      <td>36</td>\n",
       "      <td>0</td>\n",
       "      <td>7</td>\n",
       "      <td>3</td>\n",
       "      <td>1</td>\n",
       "      <td>0.000000</td>\n",
       "      <td>0.170213</td>\n",
       "      <td>18</td>\n",
       "      <td>50</td>\n",
       "      <td>0.194471</td>\n",
       "      <td>...</td>\n",
       "      <td>True</td>\n",
       "      <td>1</td>\n",
       "      <td>1</td>\n",
       "      <td>True</td>\n",
       "      <td>False</td>\n",
       "      <td>0</td>\n",
       "      <td>98</td>\n",
       "      <td>178</td>\n",
       "      <td>0.631579</td>\n",
       "      <td>0</td>\n",
       "    </tr>\n",
       "    <tr>\n",
       "      <th>2</th>\n",
       "      <td>3</td>\n",
       "      <td>23</td>\n",
       "      <td>7</td>\n",
       "      <td>4</td>\n",
       "      <td>1</td>\n",
       "      <td>0.225926</td>\n",
       "      <td>0.978723</td>\n",
       "      <td>18</td>\n",
       "      <td>38</td>\n",
       "      <td>0.194471</td>\n",
       "      <td>...</td>\n",
       "      <td>False</td>\n",
       "      <td>1</td>\n",
       "      <td>0</td>\n",
       "      <td>True</td>\n",
       "      <td>False</td>\n",
       "      <td>0</td>\n",
       "      <td>89</td>\n",
       "      <td>170</td>\n",
       "      <td>0.631579</td>\n",
       "      <td>2</td>\n",
       "    </tr>\n",
       "    <tr>\n",
       "      <th>3</th>\n",
       "      <td>7</td>\n",
       "      <td>7</td>\n",
       "      <td>7</td>\n",
       "      <td>5</td>\n",
       "      <td>1</td>\n",
       "      <td>0.596296</td>\n",
       "      <td>0.000000</td>\n",
       "      <td>14</td>\n",
       "      <td>39</td>\n",
       "      <td>0.194471</td>\n",
       "      <td>...</td>\n",
       "      <td>False</td>\n",
       "      <td>1</td>\n",
       "      <td>2</td>\n",
       "      <td>True</td>\n",
       "      <td>True</td>\n",
       "      <td>0</td>\n",
       "      <td>68</td>\n",
       "      <td>168</td>\n",
       "      <td>0.263158</td>\n",
       "      <td>4</td>\n",
       "    </tr>\n",
       "    <tr>\n",
       "      <th>4</th>\n",
       "      <td>11</td>\n",
       "      <td>23</td>\n",
       "      <td>7</td>\n",
       "      <td>5</td>\n",
       "      <td>1</td>\n",
       "      <td>0.633333</td>\n",
       "      <td>0.659574</td>\n",
       "      <td>13</td>\n",
       "      <td>33</td>\n",
       "      <td>0.194471</td>\n",
       "      <td>...</td>\n",
       "      <td>False</td>\n",
       "      <td>1</td>\n",
       "      <td>2</td>\n",
       "      <td>True</td>\n",
       "      <td>False</td>\n",
       "      <td>1</td>\n",
       "      <td>90</td>\n",
       "      <td>172</td>\n",
       "      <td>0.578947</td>\n",
       "      <td>2</td>\n",
       "    </tr>\n",
       "  </tbody>\n",
       "</table>\n",
       "<p>5 rows × 21 columns</p>\n",
       "</div>"
      ],
      "text/plain": [
       "   id reason_for_absence month_of_absence day_of_the_week seasons  \\\n",
       "0  11                 26                7               3       1   \n",
       "1  36                  0                7               3       1   \n",
       "2   3                 23                7               4       1   \n",
       "3   7                  7                7               5       1   \n",
       "4  11                 23                7               5       1   \n",
       "\n",
       "   transportation_expense  distance_from_residence_to_work  service_time  age  \\\n",
       "0                0.633333                         0.659574            13   33   \n",
       "1                0.000000                         0.170213            18   50   \n",
       "2                0.225926                         0.978723            18   38   \n",
       "3                0.596296                         0.000000            14   39   \n",
       "4                0.633333                         0.659574            13   33   \n",
       "\n",
       "   work_load_average/day  ...  disciplinary_failure  education son  \\\n",
       "0               0.194471  ...                 False          1   2   \n",
       "1               0.194471  ...                  True          1   1   \n",
       "2               0.194471  ...                 False          1   0   \n",
       "3               0.194471  ...                 False          1   2   \n",
       "4               0.194471  ...                 False          1   2   \n",
       "\n",
       "  social_drinker  social_smoker  pet weight  height  body_mass_index  \\\n",
       "0           True          False    1     90     172         0.578947   \n",
       "1           True          False    0     98     178         0.631579   \n",
       "2           True          False    0     89     170         0.631579   \n",
       "3           True           True    0     68     168         0.263158   \n",
       "4           True          False    1     90     172         0.578947   \n",
       "\n",
       "   absenteeism_time_in_hours  \n",
       "0                          4  \n",
       "1                          0  \n",
       "2                          2  \n",
       "3                          4  \n",
       "4                          2  \n",
       "\n",
       "[5 rows x 21 columns]"
      ]
     },
     "execution_count": 208,
     "metadata": {},
     "output_type": "execute_result"
    }
   ],
   "source": [
    "scaled_columns = ['transportation_expense','distance_from_residence_to_work','work_load_average/day','hit_target','body_mass_index']\n",
    "\n",
    "from sklearn.preprocessing import StandardScaler, MinMaxScaler\n",
    "#scaler = StandardScaler()\n",
    "scaler = MinMaxScaler()\n",
    "df[scaled_columns] = scaler.fit_transform(df[scaled_columns])\n",
    "df.head()"
   ]
  },
  {
   "cell_type": "code",
   "execution_count": 209,
   "metadata": {},
   "outputs": [
    {
     "data": {
      "text/plain": [
       "LinearRegression(copy_X=True, fit_intercept=True, n_jobs=None, normalize=True)"
      ]
     },
     "execution_count": 209,
     "metadata": {},
     "output_type": "execute_result"
    }
   ],
   "source": [
    "from sklearn.linear_model import LinearRegression\n",
    "from sklearn.model_selection import train_test_split\n",
    "\n",
    "#cols = list(df.columns)\n",
    "\n",
    "cols = ['reason_for_absence','month_of_absence','day_of_the_week','seasons','transportation_expense', \\\n",
    "'distance_from_residence_to_work','service_time','age','work_load_average/day','hit_target', \\\n",
    "'disciplinary_failure','education','son','social_drinker','social_smoker','pet','body_mass_index', \\\n",
    "'absenteeism_time_in_hours']\n",
    "\n",
    "X = df.loc[:,cols[:-1]]\n",
    "Y = df.loc[:,cols[-1:]]\n",
    "\n",
    "X_train, X_test, Y_train, Y_test = train_test_split(X, Y, test_size = 0.2, random_state = 0)\n",
    "\n",
    "lr = LinearRegression(normalize=True)\n",
    "lr.fit(X_train,Y_train)"
   ]
  },
  {
   "cell_type": "code",
   "execution_count": 210,
   "metadata": {},
   "outputs": [
    {
     "name": "stdout",
     "output_type": "stream",
     "text": [
      "10.917136675103976\n"
     ]
    }
   ],
   "source": [
    "from sklearn.metrics import mean_squared_error\n",
    "Y_pred = lr.predict(X_test)\n",
    "\n",
    "RMSE = np.sqrt(mean_squared_error(Y_pred, Y_test))\n",
    "print(RMSE)"
   ]
  },
  {
   "cell_type": "code",
   "execution_count": 211,
   "metadata": {},
   "outputs": [
    {
     "data": {
      "text/html": [
       "<div>\n",
       "<style scoped>\n",
       "    .dataframe tbody tr th:only-of-type {\n",
       "        vertical-align: middle;\n",
       "    }\n",
       "\n",
       "    .dataframe tbody tr th {\n",
       "        vertical-align: top;\n",
       "    }\n",
       "\n",
       "    .dataframe thead th {\n",
       "        text-align: right;\n",
       "    }\n",
       "</style>\n",
       "<table border=\"1\" class=\"dataframe\">\n",
       "  <thead>\n",
       "    <tr style=\"text-align: right;\">\n",
       "      <th></th>\n",
       "      <th>Coefficient</th>\n",
       "    </tr>\n",
       "  </thead>\n",
       "  <tbody>\n",
       "    <tr>\n",
       "      <th>reason_for_absence</th>\n",
       "      <td>-0.529018</td>\n",
       "    </tr>\n",
       "    <tr>\n",
       "      <th>month_of_absence</th>\n",
       "      <td>0.202087</td>\n",
       "    </tr>\n",
       "    <tr>\n",
       "      <th>day_of_the_week</th>\n",
       "      <td>-1.252025</td>\n",
       "    </tr>\n",
       "    <tr>\n",
       "      <th>seasons</th>\n",
       "      <td>-0.343146</td>\n",
       "    </tr>\n",
       "    <tr>\n",
       "      <th>transportation_expense</th>\n",
       "      <td>-0.201370</td>\n",
       "    </tr>\n",
       "    <tr>\n",
       "      <th>distance_from_residence_to_work</th>\n",
       "      <td>-2.840979</td>\n",
       "    </tr>\n",
       "    <tr>\n",
       "      <th>service_time</th>\n",
       "      <td>0.087175</td>\n",
       "    </tr>\n",
       "    <tr>\n",
       "      <th>age</th>\n",
       "      <td>0.193598</td>\n",
       "    </tr>\n",
       "    <tr>\n",
       "      <th>work_load_average/day</th>\n",
       "      <td>-1.321829</td>\n",
       "    </tr>\n",
       "    <tr>\n",
       "      <th>hit_target</th>\n",
       "      <td>4.785495</td>\n",
       "    </tr>\n",
       "    <tr>\n",
       "      <th>disciplinary_failure</th>\n",
       "      <td>-18.019477</td>\n",
       "    </tr>\n",
       "    <tr>\n",
       "      <th>education</th>\n",
       "      <td>-1.648168</td>\n",
       "    </tr>\n",
       "    <tr>\n",
       "      <th>son</th>\n",
       "      <td>1.407178</td>\n",
       "    </tr>\n",
       "    <tr>\n",
       "      <th>social_drinker</th>\n",
       "      <td>2.434232</td>\n",
       "    </tr>\n",
       "    <tr>\n",
       "      <th>social_smoker</th>\n",
       "      <td>-4.800679</td>\n",
       "    </tr>\n",
       "    <tr>\n",
       "      <th>pet</th>\n",
       "      <td>-0.070673</td>\n",
       "    </tr>\n",
       "    <tr>\n",
       "      <th>body_mass_index</th>\n",
       "      <td>-9.546242</td>\n",
       "    </tr>\n",
       "  </tbody>\n",
       "</table>\n",
       "</div>"
      ],
      "text/plain": [
       "                                 Coefficient\n",
       "reason_for_absence                 -0.529018\n",
       "month_of_absence                    0.202087\n",
       "day_of_the_week                    -1.252025\n",
       "seasons                            -0.343146\n",
       "transportation_expense             -0.201370\n",
       "distance_from_residence_to_work    -2.840979\n",
       "service_time                        0.087175\n",
       "age                                 0.193598\n",
       "work_load_average/day              -1.321829\n",
       "hit_target                          4.785495\n",
       "disciplinary_failure              -18.019477\n",
       "education                          -1.648168\n",
       "son                                 1.407178\n",
       "social_drinker                      2.434232\n",
       "social_smoker                      -4.800679\n",
       "pet                                -0.070673\n",
       "body_mass_index                    -9.546242"
      ]
     },
     "execution_count": 211,
     "metadata": {},
     "output_type": "execute_result"
    }
   ],
   "source": [
    "coeff_df = pd.DataFrame(lr.coef_[0], cols[0:-1], columns=['Coefficient'])\n",
    "coeff_df"
   ]
  },
  {
   "cell_type": "code",
   "execution_count": 94,
   "metadata": {},
   "outputs": [
    {
     "data": {
      "text/plain": [
       "Index(['id', 'reason_for_absence', 'month_of_absence', 'day_of_the_week',\n",
       "       'seasons', 'transportation_expense', 'distance_from_residence_to_work',\n",
       "       'service_time', 'age', 'work_load_average/day', 'hit_target',\n",
       "       'disciplinary_failure', 'education', 'son', 'social_drinker',\n",
       "       'social_smoker', 'pet', 'weight', 'height', 'body_mass_index',\n",
       "       'absenteeism_time_in_hours'],\n",
       "      dtype='object')"
      ]
     },
     "execution_count": 94,
     "metadata": {},
     "output_type": "execute_result"
    }
   ],
   "source": [
    "df.columns"
   ]
  },
  {
   "cell_type": "code",
   "execution_count": 220,
   "metadata": {},
   "outputs": [
    {
     "name": "stdout",
     "output_type": "stream",
     "text": [
      "Num Features: 10\n",
      "Selected Features: [False False  True False False  True False False  True  True  True  True\n",
      "  True  True  True False  True]\n",
      "Feature Ranking: [2 5 1 6 3 1 8 4 1 1 1 1 1 1 1 7 1]\n"
     ]
    },
    {
     "name": "stderr",
     "output_type": "stream",
     "text": [
      "/Users/Mayank/anaconda3/lib/python3.7/site-packages/sklearn/utils/validation.py:761: DataConversionWarning: A column-vector y was passed when a 1d array was expected. Please change the shape of y to (n_samples, ), for example using ravel().\n",
      "  y = column_or_1d(y, warn=True)\n"
     ]
    }
   ],
   "source": [
    "from sklearn.feature_selection import RFE\n",
    "\n",
    "rfe = RFE(lr, 10)\n",
    "fit = rfe.fit(X, Y)\n",
    "print(\"Num Features: %s\" % (fit.n_features_))\n",
    "print(\"Selected Features: %s\" % (fit.support_))\n",
    "print(\"Feature Ranking: %s\" % (fit.ranking_))"
   ]
  },
  {
   "cell_type": "code",
   "execution_count": 221,
   "metadata": {},
   "outputs": [
    {
     "name": "stdout",
     "output_type": "stream",
     "text": [
      "('reason_for_absence', False)\n",
      "('month_of_absence', False)\n",
      "('day_of_the_week', True)\n",
      "('seasons', False)\n",
      "('transportation_expense', False)\n",
      "('distance_from_residence_to_work', True)\n",
      "('service_time', False)\n",
      "('age', False)\n",
      "('work_load_average/day', True)\n",
      "('hit_target', True)\n",
      "('disciplinary_failure', True)\n",
      "('education', True)\n",
      "('son', True)\n",
      "('social_drinker', True)\n",
      "('social_smoker', True)\n",
      "('pet', False)\n",
      "('body_mass_index', True)\n"
     ]
    }
   ],
   "source": [
    "for item in zip(X.columns,fit.support_):\n",
    "    print(item)"
   ]
  },
  {
   "cell_type": "code",
   "execution_count": 256,
   "metadata": {},
   "outputs": [
    {
     "data": {
      "text/plain": [
       "187    92\n",
       "188    92\n",
       "189    92\n",
       "190    92\n",
       "191    92\n",
       "192    92\n",
       "193    92\n",
       "194    92\n",
       "195    92\n",
       "196    92\n",
       "197    92\n",
       "198    92\n",
       "199    94\n",
       "200    94\n",
       "201    94\n",
       "202    94\n",
       "203    94\n",
       "204    94\n",
       "205    94\n",
       "206    94\n",
       "207    94\n",
       "208    94\n",
       "209    94\n",
       "210    94\n",
       "211    94\n",
       "212    94\n",
       "213    94\n",
       "214    94\n",
       "Name: hit_target, dtype: int64"
      ]
     },
     "execution_count": 256,
     "metadata": {},
     "output_type": "execute_result"
    }
   ],
   "source": [
    "df[df['work_load_average/day']>350].hit_target"
   ]
  },
  {
   "cell_type": "code",
   "execution_count": 231,
   "metadata": {},
   "outputs": [
    {
     "data": {
      "text/plain": [
       "(740, 21)"
      ]
     },
     "execution_count": 231,
     "metadata": {},
     "output_type": "execute_result"
    }
   ],
   "source": [
    "df.shape"
   ]
  },
  {
   "cell_type": "code",
   "execution_count": 278,
   "metadata": {},
   "outputs": [
    {
     "data": {
      "text/plain": [
       "id                                 0\n",
       "reason_for_absence                 0\n",
       "month_of_absence                   0\n",
       "day_of_the_week                    0\n",
       "seasons                            0\n",
       "transportation_expense             0\n",
       "distance_from_residence_to_work    0\n",
       "service_time                       0\n",
       "age                                0\n",
       "work_load_average/day              0\n",
       "hit_target                         0\n",
       "disciplinary_failure               0\n",
       "education                          0\n",
       "son                                0\n",
       "social_drinker                     0\n",
       "social_smoker                      0\n",
       "pet                                0\n",
       "weight                             0\n",
       "height                             0\n",
       "body_mass_index                    0\n",
       "absenteeism_time_in_hours          0\n",
       "dtype: int64"
      ]
     },
     "execution_count": 278,
     "metadata": {},
     "output_type": "execute_result"
    }
   ],
   "source": [
    "df.isna().sum()"
   ]
  },
  {
   "cell_type": "code",
   "execution_count": 322,
   "metadata": {},
   "outputs": [
    {
     "data": {
      "text/plain": [
       "27.0    12\n",
       "28.0    10\n",
       "13.0     9\n",
       "23.0     8\n",
       "22.0     7\n",
       "19.0     5\n",
       "14.0     5\n",
       "25.0     5\n",
       "11.0     3\n",
       "26.0     1\n",
       "6.0      1\n",
       "7.0      1\n",
       "8.0      1\n",
       "10.0     1\n",
       "21.0     1\n",
       "17.0     1\n",
       "18.0     1\n",
       "1.0      1\n",
       "12.0     0\n",
       "24.0     0\n",
       "15.0     0\n",
       "9.0      0\n",
       "16.0     0\n",
       "5.0      0\n",
       "4.0      0\n",
       "3.0      0\n",
       "Name: reason_for_absence, dtype: int64"
      ]
     },
     "execution_count": 322,
     "metadata": {},
     "output_type": "execute_result"
    }
   ],
   "source": [
    "df[df.month_of_absence==3].reason_for_absence.value_counts()"
   ]
  },
  {
   "cell_type": "code",
   "execution_count": null,
   "metadata": {},
   "outputs": [],
   "source": []
  }
 ],
 "metadata": {
  "kernelspec": {
   "display_name": "Python 3",
   "language": "python",
   "name": "python3"
  },
  "language_info": {
   "codemirror_mode": {
    "name": "ipython",
    "version": 3
   },
   "file_extension": ".py",
   "mimetype": "text/x-python",
   "name": "python",
   "nbconvert_exporter": "python",
   "pygments_lexer": "ipython3",
   "version": "3.7.3"
  }
 },
 "nbformat": 4,
 "nbformat_minor": 2
}
